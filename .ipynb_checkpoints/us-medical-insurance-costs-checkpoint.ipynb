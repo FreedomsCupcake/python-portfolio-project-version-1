{
 "cells": [
  {
   "cell_type": "markdown",
   "metadata": {},
   "source": [
    "# U.S. Medical Insurance Costs"
   ]
  },
  {
   "cell_type": "code",
   "execution_count": 47,
   "metadata": {},
   "outputs": [],
   "source": [
    "import csv\n",
    "\n",
    "insurance_list = dict()\n",
    "\n",
    "with open('insurance.csv', newline='') as insurance_csv:\n",
    "    insurance_reader = csv.DictReader(insurance_csv)\n",
    "    record_num = 1\n",
    "    for record in insurance_reader:\n",
    "        insurance_list[record_num] = record\n",
    "        record_num+= 1     "
   ]
  },
  {
   "cell_type": "markdown",
   "metadata": {},
   "source": [
    "Summary Stats\n",
    "Before exploring each data category individually I wanted to get a summary of the data overall."
   ]
  },
  {
   "cell_type": "code",
   "execution_count": 54,
   "metadata": {},
   "outputs": [
    {
     "name": "stdout",
     "output_type": "stream",
     "text": [
      "The average age of patients was: 39.0\n",
      "The oldest patient is: 64.0\n",
      "The youngest patient is: 18.0\n"
     ]
    }
   ],
   "source": [
    "#Finding the average age of each patient in the records including the min and max ages. \n",
    "def get_average_age(insurance_list):\n",
    "    total_age = 0\n",
    "    for record in insurance_list:\n",
    "        age = insurance_list[record]['age']\n",
    "        total_age += float(age)\n",
    "    average_age = round((total_age / len(insurance_list)),0)\n",
    "    return average_age\n",
    "average_age = get_average_age(insurance_list)\n",
    "print(\"The average age of patients was: \" + str(average_age))\n",
    "\n",
    "def get_max_age(insurance_list):\n",
    "    max_age = 0\n",
    "    for record in insurance_list:\n",
    "        age = float(insurance_list[record]['age'])\n",
    "        if age > max_age:\n",
    "            max_age = age\n",
    "    return max_age\n",
    "max_age = get_max_age(insurance_list)\n",
    "print(\"The oldest patient is: \" + str(max_age))\n",
    "\n",
    "def get_min_age(insurance_list):\n",
    "    min_age = 100\n",
    "    for record in insurance_list:\n",
    "        age = float(insurance_list[record]['age'])\n",
    "        if age < min_age:\n",
    "            min_age = age\n",
    "    return min_age\n",
    "min_age = get_min_age(insurance_list)\n",
    "print(\"The youngest patient is: \" + str(min_age))"
   ]
  },
  {
   "cell_type": "code",
   "execution_count": null,
   "metadata": {},
   "outputs": [],
   "source": []
  }
 ],
 "metadata": {
  "kernelspec": {
   "display_name": "Python 3 (ipykernel)",
   "language": "python",
   "name": "python3"
  },
  "language_info": {
   "codemirror_mode": {
    "name": "ipython",
    "version": 3
   },
   "file_extension": ".py",
   "mimetype": "text/x-python",
   "name": "python",
   "nbconvert_exporter": "python",
   "pygments_lexer": "ipython3",
   "version": "3.10.9"
  }
 },
 "nbformat": 4,
 "nbformat_minor": 4
}
