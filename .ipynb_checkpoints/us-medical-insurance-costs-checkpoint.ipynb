{
 "cells": [
  {
   "cell_type": "markdown",
   "metadata": {},
   "source": [
    "# U.S. Medical Insurance Costs"
   ]
  },
  {
   "cell_type": "code",
   "execution_count": 47,
   "metadata": {},
   "outputs": [],
   "source": [
    "import csv\n",
    "\n",
    "insurance_list = dict()\n",
    "\n",
    "with open('insurance.csv', newline='') as insurance_csv:\n",
    "    insurance_reader = csv.DictReader(insurance_csv)\n",
    "    record_num = 1\n",
    "    for record in insurance_reader:\n",
    "        insurance_list[record_num] = record\n",
    "        record_num+= 1     "
   ]
  },
  {
   "cell_type": "markdown",
   "metadata": {},
   "source": [
    "Summary Stats\n",
    "Before exploring each data category individually I wanted to get a summary of the data overall."
   ]
  },
  {
   "cell_type": "code",
   "execution_count": 60,
   "metadata": {},
   "outputs": [],
   "source": [
    "#Decided to make a dictionary of ages in order to access the age data better.\n",
    "ages = []\n",
    "\n",
    "for record in insurance_list:\n",
    "    age = int(insurance_list[record]['age'])\n",
    "    ages.append(age)"
   ]
  },
  {
   "cell_type": "code",
   "execution_count": 63,
   "metadata": {},
   "outputs": [
    {
     "name": "stdout",
     "output_type": "stream",
     "text": [
      "The average age of all patients is: 39 years old.\n"
     ]
    }
   ],
   "source": [
    "#Function to get the average age of all records in the list ages\n",
    "def get_average_age(ages):\n",
    "    total_age = 0\n",
    "    for age in ages:\n",
    "        total_age += age\n",
    "    average_age = round((total_age/len(ages)))\n",
    "    return average_age\n",
    "\n",
    "#Calculate the average age of all patients\n",
    "average_age = get_average_age(ages)\n",
    "print(\"The average age of all patients is: \" + str(average_age) + \" years old.\")"
   ]
  },
  {
   "cell_type": "code",
   "execution_count": 64,
   "metadata": {},
   "outputs": [
    {
     "name": "stdout",
     "output_type": "stream",
     "text": [
      "The oldest patient is 64 years old. The youngest patient is 18 years old.\n"
     ]
    }
   ],
   "source": [
    "#Function to get the min and max age of records in the list ages\n",
    "def get_min_max_age(ages):\n",
    "    max_age = 0\n",
    "    min_age = 100\n",
    "    for age in ages:\n",
    "        if age > max_age:\n",
    "            max_age = age\n",
    "    for age in ages:\n",
    "        if age < min_age:\n",
    "            min_age = age\n",
    "    return max_age, min_age\n",
    "\n",
    "#Calculate the max and min age of all patients\n",
    "max_age, min_age = get_min_max_age(ages)\n",
    "print(\"The oldest patient is \" + str(max_age) + \" years old. The youngest patient is \" + str(min_age) + \" years old.\")"
   ]
  },
  {
   "cell_type": "code",
   "execution_count": null,
   "metadata": {},
   "outputs": [],
   "source": []
  }
 ],
 "metadata": {
  "kernelspec": {
   "display_name": "Python 3 (ipykernel)",
   "language": "python",
   "name": "python3"
  },
  "language_info": {
   "codemirror_mode": {
    "name": "ipython",
    "version": 3
   },
   "file_extension": ".py",
   "mimetype": "text/x-python",
   "name": "python",
   "nbconvert_exporter": "python",
   "pygments_lexer": "ipython3",
   "version": "3.10.9"
  }
 },
 "nbformat": 4,
 "nbformat_minor": 4
}
