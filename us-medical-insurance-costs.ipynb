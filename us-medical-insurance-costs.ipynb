{
 "cells": [
  {
   "cell_type": "markdown",
   "metadata": {},
   "source": [
    "# U.S. Medical Insurance Costs"
   ]
  },
  {
   "cell_type": "code",
   "execution_count": 1,
   "metadata": {},
   "outputs": [],
   "source": [
    "import csv\n",
    "\n",
    "insurance_list = dict()\n",
    "\n",
    "with open('insurance.csv', newline='') as insurance_csv:\n",
    "    insurance_reader = csv.DictReader(insurance_csv)\n",
    "    record_num = 1\n",
    "    for record in insurance_reader:\n",
    "        insurance_list[record_num] = record\n",
    "        record_num+= 1     "
   ]
  },
  {
   "cell_type": "markdown",
   "metadata": {},
   "source": [
    "Summary Stats\n",
    "Before exploring each data category individually I wanted to get a summary of the data overall."
   ]
  },
  {
   "cell_type": "code",
   "execution_count": 2,
   "metadata": {},
   "outputs": [],
   "source": [
    "#Decided to make a list of ages in order to access the age data better.\n",
    "ages = []\n",
    "\n",
    "for record in insurance_list:\n",
    "    age = int(insurance_list[record]['age'])\n",
    "    ages.append(age)"
   ]
  },
  {
   "cell_type": "code",
   "execution_count": 3,
   "metadata": {},
   "outputs": [
    {
     "name": "stdout",
     "output_type": "stream",
     "text": [
      "The average age of all patients is: 39 years old.\n"
     ]
    }
   ],
   "source": [
    "#Function to get the average age of all records in the list ages\n",
    "def get_average_age(ages):\n",
    "    total_age = 0\n",
    "    for age in ages:\n",
    "        total_age += age\n",
    "    average_age = round((total_age/len(ages)))\n",
    "    return average_age\n",
    "\n",
    "#Calculate the average age of all patients\n",
    "average_age = get_average_age(ages)\n",
    "print(\"The average age of all patients is: \" + str(average_age) + \" years old.\")"
   ]
  },
  {
   "cell_type": "code",
   "execution_count": 36,
   "metadata": {},
   "outputs": [
    {
     "name": "stdout",
     "output_type": "stream",
     "text": [
      "The oldest patient is 64 years old. The youngest patient is 18 years old.\n"
     ]
    }
   ],
   "source": [
    "#Calculate the max and min age of all patients\n",
    "max_age = max(ages)\n",
    "min_age = min(ages)\n",
    "\n",
    "print(\"The oldest patient is \" + str(max_age) + \" years old. The youngest patient is \" + str(min_age) + \" years old.\")"
   ]
  },
  {
   "cell_type": "code",
   "execution_count": 5,
   "metadata": {},
   "outputs": [],
   "source": [
    "#Create list of insurance costs\n",
    "costs = []\n",
    "\n",
    "for record in insurance_list:\n",
    "    cost = float(insurance_list[record]['charges'])\n",
    "    costs.append(cost)"
   ]
  },
  {
   "cell_type": "code",
   "execution_count": 6,
   "metadata": {},
   "outputs": [
    {
     "name": "stdout",
     "output_type": "stream",
     "text": [
      "The average cost of insurance was $13270.42\n",
      "The max cost of insurance was $63770.43 while the minimum cost was $1121.87.\n"
     ]
    }
   ],
   "source": [
    "#Function to get the average price of insurance\n",
    "def get_average_insurance_cost(costs):\n",
    "    total_cost = 0\n",
    "    for cost in costs:\n",
    "        total_cost += cost\n",
    "    average_cost = round((total_cost/len(costs)),2)\n",
    "    return average_cost\n",
    "\n",
    "#Calculate the average cost of insurance\n",
    "average_cost = get_average_insurance_cost(costs)\n",
    "print(\"The average cost of insurance was $\" + str(average_cost))\n",
    "\n",
    "#Calculate the max cost\n",
    "max_cost = round(max(costs),2)\n",
    "min_cost = round(min(costs),2)\n",
    "\n",
    "print(\"The max cost of insurance was $\" + str(max_cost) + \" while the minimum cost was $\" + str(min_cost) + \".\")"
   ]
  },
  {
   "cell_type": "code",
   "execution_count": 7,
   "metadata": {},
   "outputs": [
    {
     "name": "stdout",
     "output_type": "stream",
     "text": [
      "There were 274 smokers and 1064 non-smokers.\n"
     ]
    }
   ],
   "source": [
    "#Find number of smokers vs non-smokers\n",
    "\n",
    "num_of_smokers = 0\n",
    "num_of_nonsmokers = 0\n",
    "\n",
    "list_of_smokers = []\n",
    "list_of_nonsmokers = []\n",
    "\n",
    "for record in insurance_list:\n",
    "    status = insurance_list[record]['smoker']\n",
    "    if status == 'yes':\n",
    "        num_of_smokers += 1\n",
    "        list_of_smokers.append(insurance_list[record])\n",
    "    elif status == 'no':\n",
    "        num_of_nonsmokers += 1\n",
    "        list_of_nonsmokers.append(insurance_list[record])\n",
    "    else:\n",
    "        pass\n",
    "\n",
    "print(\"There were \" + str(num_of_smokers) + \" smokers and \" + str(num_of_nonsmokers) + \" non-smokers.\")"
   ]
  },
  {
   "cell_type": "code",
   "execution_count": 28,
   "metadata": {},
   "outputs": [
    {
     "name": "stdout",
     "output_type": "stream",
     "text": [
      "The percentage of patients who are smokers is 20.48 percent.\n"
     ]
    }
   ],
   "source": [
    "#Find percentage of total patients that are smokers. Making it a general function so I can resuse it.\n",
    "def find_percentage(portion, total):\n",
    "    if total == 0:\n",
    "        return 0\n",
    "    else:\n",
    "        percentage = (portion * 100)/total\n",
    "    return percentage\n",
    "\n",
    "percentage_of_smokers = round((find_percentage(num_of_smokers, len(insurance_list))),2)\n",
    "print(\"The percentage of patients who are smokers is \" + str(percentage_of_smokers) + \" percent.\")"
   ]
  },
  {
   "cell_type": "code",
   "execution_count": 9,
   "metadata": {},
   "outputs": [
    {
     "name": "stdout",
     "output_type": "stream",
     "text": [
      "There were 764 patients who are parents.\n",
      "That is 57.1 percent of patients.\n"
     ]
    }
   ],
   "source": [
    "#Finding percentage of patients who have children \n",
    "num_of_parents = 0\n",
    "\n",
    "list_of_parents = []\n",
    "list_of_nonparents = []\n",
    "\n",
    "for record in insurance_list:\n",
    "    child_status = int(insurance_list[record]['children'])\n",
    "    if child_status > 0:\n",
    "        num_of_parents += 1\n",
    "        list_of_parents.append(insurance_list[record])\n",
    "    else:\n",
    "        list_of_nonparents.append(insurance_list[record])\n",
    "        \n",
    "print(\"There were \" + str(num_of_parents) + \" patients who are parents.\")\n",
    "\n",
    "percentage_of_parents = round((find_percentage(num_of_parents, len(insurance_list))),2)\n",
    "print(\"That is \" + str(percentage_of_parents) + \" percent of patients.\")"
   ]
  },
  {
   "cell_type": "code",
   "execution_count": 10,
   "metadata": {},
   "outputs": [
    {
     "name": "stdout",
     "output_type": "stream",
     "text": [
      "676 662\n",
      "Males make up 50.52 percent of patients.\n"
     ]
    }
   ],
   "source": [
    "#Finding percentage of patients who are either gender\n",
    "num_of_males = 0\n",
    "num_of_females = 0\n",
    "\n",
    "list_of_males = []\n",
    "list_of_females = []\n",
    "\n",
    "for record in insurance_list:\n",
    "    gender = insurance_list[record]['sex']\n",
    "    if gender == 'male':\n",
    "        num_of_males += 1\n",
    "        list_of_males.append(insurance_list[record])\n",
    "    elif gender == 'female':\n",
    "        num_of_females +=1\n",
    "        list_of_females.append(insurance_list[record])\n",
    "        \n",
    "print(num_of_males, num_of_females)\n",
    "\n",
    "percentage_of_males = round((find_percentage(num_of_males, len(insurance_list))),2)\n",
    "print(\"Males make up \" + str(percentage_of_males) + \" percent of patients.\")"
   ]
  },
  {
   "cell_type": "code",
   "execution_count": 11,
   "metadata": {},
   "outputs": [
    {
     "name": "stdout",
     "output_type": "stream",
     "text": [
      "{'southwest': 325, 'southeast': 365, 'northwest': 327, 'northeast': 327}\n",
      "The region with the highest number of patient records is the southeast.\n"
     ]
    }
   ],
   "source": [
    "#Finding all reported regions\n",
    "\n",
    "regions = dict()\n",
    "record_count = 0\n",
    "\n",
    "for record in insurance_list:\n",
    "    region = insurance_list[record]['region']\n",
    "    if region not in regions:\n",
    "        record_count += 1\n",
    "        regions[region] = record_count\n",
    "    else:\n",
    "        regions[region] += 1\n",
    "        \n",
    "print(regions)\n",
    "\n",
    "max_region = \"None\"\n",
    "count = 0\n",
    "for region in regions:\n",
    "    new_count = regions[region]\n",
    "    if new_count > count:\n",
    "        count = new_count\n",
    "        max_region = region\n",
    "        \n",
    "print(\"The region with the highest number of patient records is the \" + str(max_region) + \".\")"
   ]
  },
  {
   "cell_type": "markdown",
   "metadata": {},
   "source": [
    "SUMMARY:\n",
    "\n",
    "Of the 1,338 patients whose records are in this data:\n",
    "    50.52% were male while 49.48% were female giving a nearly even split between the two sexes.\n",
    "    57.1% of patients were parents, leaving the data split slightly more than even between parents and non-parents.\n",
    "    The data will be skewed towards the results of non-smokers as only 20.48% of patients were smokers.\n",
    "    While the average age of patients was 39 years old, the oldest patient is 64 and the youngest is 18.\n",
    "    The average cost of insurance accross patients was 13,270.42 though this is likely skewed from outliers (63,770.43 max, 1,121.87 min)."
   ]
  },
  {
   "cell_type": "markdown",
   "metadata": {},
   "source": [
    "EXPLORING AGE:\n",
    "\n",
    "For this section I wanted to explore trends in age. In particular, I wanted to look into the average insurance cost across age groups, the average bmi per age group, and the percentage of smokers in each age group. I predict that insurance costs will be higher in later age groups. I also predict that the average bmi and percentage of smokers will also increase with age due to slowing metabolism and the recent push from younger generations to quit smoking."
   ]
  },
  {
   "cell_type": "code",
   "execution_count": 12,
   "metadata": {},
   "outputs": [],
   "source": [
    "#Defining the age categories and sorting all records into each of the 3 based on the age of the patient.\n",
    "\n",
    "age_categories = {'young': 30,\n",
    "                  'middle': 60,\n",
    "                  'elder': 90}\n",
    "\n",
    "def group_category_by_age(key):\n",
    "    grouped_by_age = {'young': [],\n",
    "                      'middle': [],\n",
    "                      'elder': []}\n",
    "    \n",
    "    for record in insurance_list:\n",
    "        il_record = int(insurance_list[record]['age'])\n",
    "        if il_record <= age_categories['young']:\n",
    "            grouped_by_age['young'].append(insurance_list[record][key])\n",
    "        elif il_record > age_categories['young'] and il_record <= age_categories['middle']:\n",
    "            grouped_by_age['middle'].append(insurance_list[record][key])\n",
    "        elif il_record > age_categories['middle'] and il_record <= age_categories['elder']:\n",
    "            grouped_by_age['elder'].append(insurance_list[record][key])\n",
    "        elif il_record > age_categories['elder']:\n",
    "            grouped_by_age['elder'].append(insurance_list[record][key])\n",
    "    \n",
    "    return grouped_by_age\n"
   ]
  },
  {
   "cell_type": "code",
   "execution_count": 13,
   "metadata": {},
   "outputs": [],
   "source": [
    "#Sorting charges, bmi, and smoking status by age.\n",
    "\n",
    "costs_by_age = group_category_by_age('charges')\n",
    "bmi_by_age = group_category_by_age('bmi')\n",
    "smokers_by_age = group_category_by_age('smoker')"
   ]
  },
  {
   "cell_type": "code",
   "execution_count": 14,
   "metadata": {},
   "outputs": [
    {
     "name": "stdout",
     "output_type": "stream",
     "text": [
      "The average insurance cost for those 30 and younger was $9397.55.\n",
      "The average insurance cost for those younger than 60 but older than 30 was $14528.72.\n",
      "The average insurance cost for those older than 60 was $21063.16.\n"
     ]
    }
   ],
   "source": [
    "#Finding average insurance cost in each age grouping.\n",
    "\n",
    "def age_avg(category, age_group):\n",
    "    total = 0\n",
    "    length = len(category[age_group])\n",
    "    for record in category[age_group]:\n",
    "        total += float(record)\n",
    "    average = round((total/length),2)\n",
    "    return average\n",
    "\n",
    "cost_avg_young = age_avg(costs_by_age, 'young')\n",
    "cost_avg_middle = age_avg(costs_by_age, 'middle')\n",
    "cost_avg_old = age_avg(costs_by_age, 'elder')\n",
    "\n",
    "print(\"The average insurance cost for those 30 and younger was $\" + str(cost_avg_young) + \".\")\n",
    "print(\"The average insurance cost for those younger than 60 but older than 30 was $\" + str(cost_avg_middle) + \".\")\n",
    "print(\"The average insurance cost for those older than 60 was $\" + str(cost_avg_old) + \".\")\n",
    "    "
   ]
  },
  {
   "cell_type": "code",
   "execution_count": 15,
   "metadata": {},
   "outputs": [
    {
     "name": "stdout",
     "output_type": "stream",
     "text": [
      "The average BMI for those 30 and younger was 29.89.\n",
      "The average BMI for those younger than 60 but older than 30 was 30.89.\n",
      "The average BMI for those older than 60 was 32.44.\n"
     ]
    }
   ],
   "source": [
    "#Finding average bmi in each age grouping\n",
    "\n",
    "bmi_avg_young = age_avg(bmi_by_age, 'young')\n",
    "bmi_avg_middle = age_avg(bmi_by_age, 'middle')\n",
    "bmi_avg_old = age_avg(bmi_by_age, 'elder')\n",
    "\n",
    "print(\"The average BMI for those 30 and younger was \" + str(bmi_avg_young) + \".\")\n",
    "print(\"The average BMI for those younger than 60 but older than 30 was \" + str(bmi_avg_middle) + \".\")\n",
    "print(\"The average BMI for those older than 60 was \" + str(bmi_avg_old) + \".\")"
   ]
  },
  {
   "cell_type": "code",
   "execution_count": 16,
   "metadata": {},
   "outputs": [
    {
     "name": "stdout",
     "output_type": "stream",
     "text": [
      "21.4% of the patients 30 and younger report smoking. Of the total number of smokers, this is 34.67%\n",
      "19.55% of the patients older than 30 but younger than 60 report smoking. Of the total number of smokers, this is 57.3%\n",
      "24.18% of the patients 60 and older report smoking. Of the total number of smokers, this is 8.03%\n"
     ]
    }
   ],
   "source": [
    "#Finding the percentage of smokers in each age grouping\n",
    "\n",
    "def count_smokers_per_age(smokers_by_age, age_group):\n",
    "    total_smokers = 0\n",
    "    length = len(smokers_by_age[age_group])\n",
    "    for record in smokers_by_age[age_group]:\n",
    "        if record == 'yes':\n",
    "            total_smokers += 1\n",
    "    percentage_of_smokers = round((find_percentage(total_smokers, length)),2)\n",
    "    percentage_of_total_smokers = round((find_percentage(total_smokers, num_of_smokers)),2)\n",
    "    return percentage_of_smokers, percentage_of_total_smokers\n",
    "\n",
    "smokers_young, young_percentage = count_smokers_per_age(smokers_by_age, 'young')\n",
    "smokers_mid, mid_percentage = count_smokers_per_age(smokers_by_age, 'middle')\n",
    "smokers_old, old_percentage = count_smokers_per_age(smokers_by_age, 'elder')\n",
    "\n",
    "print(str(smokers_young) + \"% of the patients 30 and younger report smoking. Of the total number of smokers, this is \" + str(young_percentage) + \"%\")\n",
    "print(str(smokers_mid) + \"% of the patients older than 30 but younger than 60 report smoking. Of the total number of smokers, this is \" + str(mid_percentage) + \"%\")\n",
    "print(str(smokers_old) + \"% of the patients 60 and older report smoking. Of the total number of smokers, this is \" + str(old_percentage) + \"%\")"
   ]
  },
  {
   "cell_type": "markdown",
   "metadata": {},
   "source": [
    "SUMMARY:\n",
    "\n",
    "Average Insurance Cost by Age\n",
    "\n",
    "Across the age groups, those 60 and older reported the highest average insurance cost at 21,063, next were those between the ages of 30 and 60 who had an average cost of 14,528.72. Those under the age of 30 had the lowest average cost at only 9397.55. This is in line with my prediction from before, with average insurance cost increasing as the age bracket increases.\n",
    "\n",
    "Average BMI by Age\n",
    "\n",
    "Average BMI for each age group was 29.89, 30.89, and 32.44 for young, middle, and elders respectively. While I was right in my prediction that average BMI would increase across each group, the difference was not nearly as wide as I predicted.\n",
    "\n",
    "Percentage of Smokers by Age\n",
    "\n",
    "Those 60 and older reported the highest percentage of smokers, with 24.18% of them reporting to smoke. This was followed by those 30 and younger consisting of 21.4% smokers and finally those in the middle with 19.55% reporting they smoked. Of the total number of patients who reported smoking, this broke down to:\n",
    "    34.67% of smokers being 30 or younger\n",
    "    57.3% of smokers being between the ages of 30 and 60\n",
    "    8.03% of smokers being over the age of 60\n",
    "While I predicted that younger generations would have lower rates of smoking, this wasn't quite the case. While equal portions of each age group were smokers, majority of the smokers overall were between the ages of 30 and 60. Those over the age of 60 only accounted for less than 10% of total reported smokers. This, I think, might be due to the fact that smoking can contribute to health issues that would decrease one's overall lifespan. As a portion of smokers die at younger ages, they'd cluster in the mid-age range while their non-smoking counterparts would make up much of the patients in the oldest age group.\n",
    "   \n",
    "    "
   ]
  },
  {
   "cell_type": "markdown",
   "metadata": {},
   "source": [
    "EXPLORING SEX, BMI, SMOKING, AND CHILDREN\n",
    "\n",
    "For this section I wanted to see if average price differed based on a patient's sex, BMI, whether or not they're a smoker, and whether or not they have children. My predictions for this section are that women, on average, will have higher insurance costs than men, higher BMI's will lead to higher average costs, smokers will have higher costs, and those with children will have higher costs the more children they have.\n",
    "\n",
    "For sex, I believe this difference is possibly caused by women's need for more extensive healthcare procedures centered around reproductive health such as natal care. For BMI and a patient's smoking status, the difference I believe would be due to the higher rate of health complications found in those with higher BMIs and who smoke. When it comes to children, I believe the average will increase due to each individual child increasing the cost of medical care for a family."
   ]
  },
  {
   "cell_type": "code",
   "execution_count": 40,
   "metadata": {},
   "outputs": [],
   "source": [
    "#Create list of insurance costs per sorted category list\n",
    "\n",
    "def get_values_for_category(category, value):\n",
    "    value_list = []\n",
    "    for record in category:\n",
    "        value_collected = float(record[value])\n",
    "        value_list.append(value_collected)\n",
    "    return value_list"
   ]
  },
  {
   "cell_type": "code",
   "execution_count": 41,
   "metadata": {},
   "outputs": [
    {
     "name": "stdout",
     "output_type": "stream",
     "text": [
      "The average insurance cost for men is $13956.75\n",
      "The average insurance cost for women is $12569.58\n"
     ]
    }
   ],
   "source": [
    "#Finding the average insurance costs per sex.\n",
    "\n",
    "#For Men\n",
    "male_costs = get_values_for_category(list_of_males, 'charges')\n",
    "male_average = get_average_insurance_cost(male_costs)\n",
    "print(\"The average insurance cost for men is $\" + str(male_average))\n",
    "\n",
    "#For Women\n",
    "female_costs = get_values_for_category(list_of_females, 'charges')\n",
    "female_average = get_average_insurance_cost(female_costs)\n",
    "print(\"The average insurance cost for women is $\" + str(female_average))"
   ]
  },
  {
   "cell_type": "code",
   "execution_count": 70,
   "metadata": {},
   "outputs": [],
   "source": [
    "#Defining the BMI categories and sorting each patient into groups.\n",
    "\n",
    "#Finding the upper and lower limits of the categories\n",
    "list_of_BMI = []\n",
    "\n",
    "for record in insurance_list:\n",
    "    BMI = float(insurance_list[record]['bmi'])\n",
    "    list_of_BMI.append(BMI)\n",
    "    \n",
    "max_BMI = max(list_of_BMI)\n",
    "min_BMI = min(list_of_BMI)\n",
    "\n",
    "\n",
    "#Creating the categories\n",
    "bmi_categories = {'low': 18.0,\n",
    "                  'mid': 36.0,\n",
    "                  'high': 54.0}\n",
    "\n",
    "#Sorting the patients into each\n",
    "    \n",
    "def group_category_by_bmi(key):\n",
    "    grouped_by_bmi = {'low': [],\n",
    "                      'mid': [],\n",
    "                      'high': []}\n",
    "    \n",
    "    for record in insurance_list:\n",
    "        il_record = float(insurance_list[record]['bmi'])\n",
    "        if il_record <= bmi_categories['low']:\n",
    "            grouped_by_bmi['low'].append(insurance_list[record][key])\n",
    "        elif il_record > bmi_categories['low'] and il_record <= bmi_categories['mid']:\n",
    "            grouped_by_bmi['mid'].append(insurance_list[record][key])\n",
    "        elif il_record > bmi_categories['mid']:\n",
    "            grouped_by_bmi['high'].append(insurance_list[record][key])\n",
    "    \n",
    "    return grouped_by_bmi\n",
    "\n",
    "costs_grouped_by_bmi = group_category_by_bmi('charges')\n"
   ]
  },
  {
   "cell_type": "code",
   "execution_count": 71,
   "metadata": {},
   "outputs": [
    {
     "name": "stdout",
     "output_type": "stream",
     "text": [
      "The average insurance cost for those with a low BMI, less than 18, is $7576.42.\n",
      "The average insurance cost for those with a medium BMI, between 18 and 36, is $12455.88.\n",
      "The average insurance cost for those with a high BMI, greater than 36, is $16981.36.\n"
     ]
    }
   ],
   "source": [
    "#Find averages cost for each BMI grouping.\n",
    "bmi_avg_low = age_avg(costs_grouped_by_bmi, 'low')\n",
    "bmi_avg_mid = age_avg(costs_grouped_by_bmi, 'mid')\n",
    "bmi_avg_high = age_avg(costs_grouped_by_bmi, 'high')\n",
    "\n",
    "print(\"The average insurance cost for those with a low BMI, less than 18, is $\" + str(bmi_avg_low) + \".\")\n",
    "print(\"The average insurance cost for those with a medium BMI, between 18 and 36, is $\" + str(bmi_avg_mid) + \".\")\n",
    "print(\"The average insurance cost for those with a high BMI, greater than 36, is $\" + str(bmi_avg_high) + \".\")"
   ]
  },
  {
   "cell_type": "code",
   "execution_count": 43,
   "metadata": {},
   "outputs": [
    {
     "name": "stdout",
     "output_type": "stream",
     "text": [
      "The average insurance cost for smokers is $32050.23\n",
      "The average insurance cost for non-smokers is $8434.27\n"
     ]
    }
   ],
   "source": [
    "#Finding the average insurance costs based on whether a patient is a smoker or not.\n",
    "\n",
    "#Smokers\n",
    "smoker_costs = get_values_for_category(list_of_smokers, 'charges')\n",
    "smoker_average = get_average_insurance_cost(smoker_costs)\n",
    "print(\"The average insurance cost for smokers is $\" + str(smoker_average))\n",
    "\n",
    "#Non-Smokers\n",
    "nonsmoker_costs = get_values_for_category(list_of_nonsmokers, 'charges')\n",
    "nonsmoker_average = get_average_insurance_cost(nonsmoker_costs)\n",
    "print(\"The average insurance cost for non-smokers is $\" + str(nonsmoker_average))"
   ]
  },
  {
   "cell_type": "code",
   "execution_count": 75,
   "metadata": {},
   "outputs": [],
   "source": [
    "#Defining the categories for number of children and sorting each patient into groups.\n",
    "\n",
    "#categories 0-5\n",
    "list_of_children = []\n",
    "\n",
    "for record in insurance_list:\n",
    "    children = int(insurance_list[record]['children'])\n",
    "    list_of_children.append(children)\n",
    "\n",
    "#Creating the categories\n",
    "children_categories = {0: 0,\n",
    "                  1: 1,\n",
    "                  2: 2,\n",
    "                  3: 3,\n",
    "                  4: 4,\n",
    "                  5: 5}\n",
    "\n",
    "#Sorting the patients into each\n",
    "    \n",
    "def group_category_by_children(key):\n",
    "    grouped_by_children = {0: [],\n",
    "                           1: [],\n",
    "                           2: [],\n",
    "                           3: [],\n",
    "                           4: [],\n",
    "                           5: []}\n",
    "    \n",
    "    for record in insurance_list:\n",
    "        i = 0\n",
    "        for i in range(6):\n",
    "            il_record = int(insurance_list[record]['children'])\n",
    "            if il_record == children_categories[i]:\n",
    "                grouped_by_children[i].append(insurance_list[record][key])\n",
    "    return grouped_by_children\n",
    "\n",
    "costs_grouped_by_child = group_category_by_children('charges')"
   ]
  },
  {
   "cell_type": "code",
   "execution_count": 77,
   "metadata": {},
   "outputs": [
    {
     "name": "stdout",
     "output_type": "stream",
     "text": [
      "The average cost of insurance for someone who has 0 children is $12365.98.\n",
      "The average cost of insurance for someone who has 1 children is $12731.17.\n",
      "The average cost of insurance for someone who has 2 children is $15073.56.\n",
      "The average cost of insurance for someone who has 3 children is $15355.32.\n",
      "The average cost of insurance for someone who has 4 children is $13850.66.\n",
      "The average cost of insurance for someone who has 5 children is $8786.04.\n"
     ]
    }
   ],
   "source": [
    "#Find averages cost for each child grouping.\n",
    "\n",
    "def print_averages_child_cost():\n",
    "    for i in range(6):\n",
    "        average_cost = age_avg(costs_grouped_by_child, i)\n",
    "        print(\"The average cost of insurance for someone who has \" + str(i) + \" children is $\" + str(average_cost) + \".\")\n",
    "\n",
    "print_averages_child_cost()"
   ]
  },
  {
   "cell_type": "markdown",
   "metadata": {},
   "source": [
    "SUMMARY\n",
    "\n",
    "While my predictions were correct when it came to high BMIs and a patient smoking contributing to a higher insurance cost, they were wrong when it came to sex and the number of children. On average, men's insurance was slightly higher than that of women while insurance costs for those with children actually peaked around 2-3 children with those having 5 children having the lowest costs over all.\n",
    "\n",
    "If I wanted to refine this more, I would check for rates of smoking and average BMI between men and women as well as whether there's any patterns between the number of children one has and whether or not they smoke or have a high BMI.\n",
    "\n",
    "As for stats that seem to strongly affect the cost of one's insurance with only this data, it seems to largely be whether or not an individual smokes, whether their BMI is high, and how old they are."
   ]
  },
  {
   "cell_type": "code",
   "execution_count": null,
   "metadata": {},
   "outputs": [],
   "source": []
  }
 ],
 "metadata": {
  "kernelspec": {
   "display_name": "Python 3 (ipykernel)",
   "language": "python",
   "name": "python3"
  },
  "language_info": {
   "codemirror_mode": {
    "name": "ipython",
    "version": 3
   },
   "file_extension": ".py",
   "mimetype": "text/x-python",
   "name": "python",
   "nbconvert_exporter": "python",
   "pygments_lexer": "ipython3",
   "version": "3.10.9"
  }
 },
 "nbformat": 4,
 "nbformat_minor": 4
}
